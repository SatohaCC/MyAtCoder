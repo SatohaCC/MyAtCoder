{
 "cells": [
  {
   "cell_type": "code",
   "execution_count": 12,
   "metadata": {},
   "outputs": [
    {
     "name": "stdout",
     "output_type": "stream",
     "text": [
      "Status: Optimal\n",
      "x= 2.0 y= 8.0\n",
      "x\n"
     ]
    }
   ],
   "source": [
    "import pulp\n",
    "\n",
    "problem = pulp.LpProblem('SLE',pulp.LpMaximize)\n",
    "\n",
    "x = pulp.LpVariable('x',cat='Continuous')\n",
    "y = pulp.LpVariable('y',cat='Continuous')\n",
    "\n",
    "\n",
    "problem.addConstraint(120*x+150*y==1440)\n",
    "problem.addConstraint(x+y==10)\n",
    "\n",
    "status = problem.solve()\n",
    "\n",
    "print('Status:',pulp.LpStatus[status])\n",
    "print('x=',x.value(),'y=',y.value())\n",
    "problem"
   ]
  },
  {
   "cell_type": "code",
   "execution_count": 14,
   "metadata": {},
   "outputs": [
    {
     "name": "stdout",
     "output_type": "stream",
     "text": [
      "Status: Optimal\n",
      "x= 18.0 y= <bound method LpVariable.value of y> obj= 26.0\n"
     ]
    }
   ],
   "source": [
    "import pulp\n",
    "\n",
    "problem = pulp.LpProblem('LP',pulp.LpMaximize)\n",
    "\n",
    "x = pulp.LpVariable('x',cat='Continuous')\n",
    "y = pulp.LpVariable('y',cat='Continuous')\n",
    "\n",
    "problem.addConstraint(x+3*y<=30)\n",
    "problem.addConstraint(2*x+y<=40)\n",
    "problem.addConstraint(x>=0)\n",
    "problem.addConstraint(y>=0)\n",
    "problem.setObjective(x+2*y)\n",
    "\n",
    "status = problem.solve()\n",
    "print('Status:',pulp.LpStatus[status])\n",
    "print('x=',x.value(),'y=',y.value,'obj=',problem.objective.value())"
   ]
  }
 ],
 "metadata": {
  "interpreter": {
   "hash": "39584f4d1262628b5bb797567b750b2f41a5253fd06f2f9b8ea9382b2f3efaf4"
  },
  "kernelspec": {
   "display_name": "Python 3.9.5 64-bit",
   "language": "python",
   "name": "python3"
  },
  "language_info": {
   "codemirror_mode": {
    "name": "ipython",
    "version": 3
   },
   "file_extension": ".py",
   "mimetype": "text/x-python",
   "name": "python",
   "nbconvert_exporter": "python",
   "pygments_lexer": "ipython3",
   "version": "3.9.5"
  },
  "orig_nbformat": 4
 },
 "nbformat": 4,
 "nbformat_minor": 2
}
